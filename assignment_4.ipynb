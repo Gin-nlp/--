{
 "cells": [
  {
   "cell_type": "code",
   "execution_count": 13,
   "id": "d6e2e01b",
   "metadata": {},
   "outputs": [
    {
     "name": "stdout",
     "output_type": "stream",
     "text": [
      "Python version: 3.11.1 (tags/v3.11.1:a7a450f, Dec  6 2022, 19:58:39) [MSC v.1934 64 bit (AMD64)]\n",
      "Requirement already satisfied: pip in c:\\users\\pranav\\appdata\\local\\programs\\python\\python311\\lib\\site-packages (25.1.1)\n"
     ]
    },
    {
     "name": "stderr",
     "output_type": "stream",
     "text": [
      "ERROR: Could not find a version that satisfies the requirement fcmeans (from versions: none)\n",
      "ERROR: No matching distribution found for fcmeans\n"
     ]
    }
   ],
   "source": [
    "\n",
    "# Check Python version and upgrade pip, then install fcmeans in the current environment\n",
    "import sys\n",
    "print('Python version:', sys.version)\n",
    "!{sys.executable} -m pip install --upgrade pip\n",
    "!{sys.executable} -m pip install fcmeans"
   ]
  },
  {
   "cell_type": "code",
   "execution_count": 9,
   "id": "6116a37f",
   "metadata": {},
   "outputs": [
    {
     "ename": "ModuleNotFoundError",
     "evalue": "No module named 'fcmeans'",
     "output_type": "error",
     "traceback": [
      "\u001b[31m---------------------------------------------------------------------------\u001b[39m",
      "\u001b[31mModuleNotFoundError\u001b[39m                       Traceback (most recent call last)",
      "\u001b[36mCell\u001b[39m\u001b[36m \u001b[39m\u001b[32mIn[9]\u001b[39m\u001b[32m, line 13\u001b[39m\n\u001b[32m     11\u001b[39m \u001b[38;5;28;01mimport\u001b[39;00m\u001b[38;5;250m \u001b[39m\u001b[34;01mmatplotlib\u001b[39;00m\u001b[34;01m.\u001b[39;00m\u001b[34;01mpyplot\u001b[39;00m\u001b[38;5;250m \u001b[39m\u001b[38;5;28;01mas\u001b[39;00m\u001b[38;5;250m \u001b[39m\u001b[34;01mplt\u001b[39;00m\n\u001b[32m     12\u001b[39m \u001b[38;5;28;01mfrom\u001b[39;00m\u001b[38;5;250m \u001b[39m\u001b[34;01msklearn\u001b[39;00m\u001b[34;01m.\u001b[39;00m\u001b[34;01mdatasets\u001b[39;00m\u001b[38;5;250m \u001b[39m\u001b[38;5;28;01mimport\u001b[39;00m make_blobs, load_iris\n\u001b[32m---> \u001b[39m\u001b[32m13\u001b[39m \u001b[38;5;28;01mfrom\u001b[39;00m\u001b[38;5;250m \u001b[39m\u001b[34;01mfcmeans\u001b[39;00m\u001b[38;5;250m \u001b[39m\u001b[38;5;28;01mimport\u001b[39;00m FCM\n\u001b[32m     15\u001b[39m \u001b[38;5;66;03m# Dataset 1: Synthetic blobs\u001b[39;00m\n\u001b[32m     16\u001b[39m X1, y1 = make_blobs(n_samples=\u001b[32m150\u001b[39m, centers=\u001b[32m3\u001b[39m, n_features=\u001b[32m2\u001b[39m, random_state=\u001b[32m42\u001b[39m)\n",
      "\u001b[31mModuleNotFoundError\u001b[39m: No module named 'fcmeans'"
     ]
    }
   ],
   "source": [
    "# -*- coding: utf-8 -*-\n",
    "\"\"\"\n",
    "Python Code\n",
    "\"\"\"\n",
    "\n",
    "\n",
    "# Install required libraries before running:\n",
    "# pip install fcmeans numpy matplotlib scikit-learn\n",
    "\n",
    "import numpy as np\n",
    "import matplotlib.pyplot as plt\n",
    "from sklearn.datasets import make_blobs, load_iris\n",
    "from fcmeans import FCM\n",
    "\n",
    "# Dataset 1: Synthetic blobs\n",
    "X1, y1 = make_blobs(n_samples=150, centers=3, n_features=2, random_state=42)\n",
    "\n",
    "# Dataset 2: Iris (first two features)\n",
    "iris = load_iris()\n",
    "X2 = iris.data[:, [0, 1]] # Using Sepal Length and Sepal Width\n",
    "\n",
    "\n",
    "# Run FCM on dataset 1\n",
    "fcm1 = FCM(n_clusters=3)\n",
    "fcm1.fit(X1)\n",
    "labels1 = fcm1.predict(X1)\n",
    "centers1 = fcm1.centers\n",
    "\n",
    "# Run FCM on dataset 2\n",
    "fcm2 = FCM(n_clusters=3)\n",
    "fcm2.fit(X2)\n",
    "labels2 = fcm2.predict(X2)\n",
    "centers2 = fcm2.centers\n",
    "\n",
    "\n",
    "# Plotting results\n",
    "plt.figure(figsize=(12, 5))\n",
    "\n",
    "# Plot for dataset 1\n",
    "plt.subplot(1, 2, 1)\n",
    "plt.scatter(X1[:, 0], X1[:, 1], c=labels1, cmap='viridis')\n",
    "plt.scatter(centers1[:, 0], centers1[:, 1], marker='X', s=200, c='red')\n",
    "plt.title(\"FCM on Synthetic Dataset\")\n",
    "plt.xlabel(\"Feature 1\")\n",
    "plt.ylabel(\"Feature 2\")\n",
    "\n",
    "# Plot for dataset 2\n",
    "plt.subplot(1, 2, 2)\n",
    "plt.scatter(X2[:, 0], X2[:, 1], c=labels2, cmap='plasma')\n",
    "plt.scatter(centers2[:, 0], centers2[:, 1], marker='X', s=200, c='red')\n",
    "plt.title(\"FCM on Iris Dataset\")\n",
    "plt.xlabel(\"Feature 1\")\n",
    "plt.ylabel(\"Feature 2\")\n",
    "\n",
    "plt.show()"
   ]
  }
 ],
 "metadata": {
  "kernelspec": {
   "display_name": "Python 3",
   "language": "python",
   "name": "python3"
  },
  "language_info": {
   "codemirror_mode": {
    "name": "ipython",
    "version": 3
   },
   "file_extension": ".py",
   "mimetype": "text/x-python",
   "name": "python",
   "nbconvert_exporter": "python",
   "pygments_lexer": "ipython3",
   "version": "3.11.1"
  }
 },
 "nbformat": 4,
 "nbformat_minor": 5
}
