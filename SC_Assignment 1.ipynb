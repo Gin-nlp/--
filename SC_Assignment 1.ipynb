{
 "cells": [
  {
   "cell_type": "code",
   "execution_count": 8,
   "id": "11384c63",
   "metadata": {},
   "outputs": [
    {
     "name": "stdout",
     "output_type": "stream",
     "text": [
      "Defaulting to user installation because normal site-packages is not writeable\n",
      "Requirement already satisfied: scikit-fuzzy in c:\\users\\pranav\\appdata\\roaming\\python\\python313\\site-packages (0.5.0)\n"
     ]
    },
    {
     "name": "stderr",
     "output_type": "stream",
     "text": [
      "\n",
      "[notice] A new release of pip is available: 25.0.1 -> 25.1.1\n",
      "[notice] To update, run: C:\\Python313\\python.exe -m pip install --upgrade pip\n"
     ]
    }
   ],
   "source": [
    "!pip install scikit-fuzzy"
   ]
  },
  {
   "cell_type": "code",
   "execution_count": 13,
   "id": "33d6be5d",
   "metadata": {},
   "outputs": [
    {
     "name": "stdout",
     "output_type": "stream",
     "text": [
      "Collecting scikit-fuzzy\n",
      "  Downloading scikit_fuzzy-0.5.0-py2.py3-none-any.whl (920 kB)\n",
      "     -------------------------------------- 920.8/920.8 kB 5.3 MB/s eta 0:00:00\n",
      "Installing collected packages: scikit-fuzzy\n",
      "Successfully installed scikit-fuzzy-0.5.0\n"
     ]
    },
    {
     "name": "stderr",
     "output_type": "stream",
     "text": [
      "\n",
      "[notice] A new release of pip available: 22.3.1 -> 25.1.1\n",
      "[notice] To update, run: python.exe -m pip install --upgrade pip\n"
     ]
    }
   ],
   "source": [
    "import sys\n",
    "!{sys.executable} -m pip install scikit-fuzzy"
   ]
  },
  {
   "cell_type": "code",
   "execution_count": 14,
   "id": "a2d8d50d",
   "metadata": {},
   "outputs": [],
   "source": [
    "import numpy as np\n",
    "import skfuzzy as fuzz\n",
    "from skfuzzy import control as ctrl\n"
   ]
  },
  {
   "cell_type": "code",
   "execution_count": 15,
   "id": "bac088b6",
   "metadata": {},
   "outputs": [],
   "source": [
    "\n",
    "def define_fuzzy_variables():\n",
    "    \"\"\"\n",
    "    Define the fuzzy variables (inputs and output) and their membership functions.\n",
    "    \"\"\"\n",
    "    # Input: Soil Moisture (0-100%)\n",
    "    soil_moisture = ctrl.Antecedent(np.arange(0, 101, 1), 'soil_moisture')\n",
    "    soil_moisture['Dry'] = fuzz.trapmf(soil_moisture.universe, [0, 0, 20, 40])\n",
    "    soil_moisture['Moist'] = fuzz.trimf(soil_moisture.universe, [30, 50, 70])\n",
    "    soil_moisture['Wet'] = fuzz.trapmf(soil_moisture.universe, [60, 80, 100, 100])\n",
    "\n",
    "    # Input: Temperature (0-50°C)\n",
    "    temperature = ctrl.Antecedent(np.arange(0, 51, 1), 'temperature')\n",
    "    temperature['Low'] = fuzz.trapmf(temperature.universe, [0, 0, 10, 20])\n",
    "    temperature['Medium'] = fuzz.trimf(temperature.universe, [15, 25, 35])\n",
    "    temperature['High'] = fuzz.trapmf(temperature.universe, [30, 40, 50, 50])\n",
    "\n",
    "    # Output: Water Flow (0-100%)\n",
    "    water_flow = ctrl.Consequent(np.arange(0, 101, 1), 'water_flow')\n",
    "    water_flow['Low'] = fuzz.trapmf(water_flow.universe, [0, 0, 20, 40])\n",
    "    water_flow['Medium'] = fuzz.trimf(water_flow.universe, [30, 50, 70])\n",
    "    water_flow['High'] = fuzz.trapmf(water_flow.universe, [60, 80, 100, 100])\n",
    "\n",
    "    return soil_moisture, temperature, water_flow"
   ]
  },
  {
   "cell_type": "code",
   "execution_count": 16,
   "id": "ac365b8c",
   "metadata": {},
   "outputs": [],
   "source": [
    "\n",
    "def define_fuzzy_rules(soil_moisture, temperature, water_flow):\n",
    "    \"\"\"\n",
    "    Define the fuzzy rules for the system.\n",
    "    \"\"\"\n",
    "    rules = [\n",
    "        ctrl.Rule(soil_moisture['Dry'] & temperature['High'], water_flow['High']),\n",
    "        ctrl.Rule(soil_moisture['Dry'] & temperature['Medium'], water_flow['Medium']),\n",
    "        ctrl.Rule(soil_moisture['Dry'] & temperature['Low'], water_flow['Medium']),\n",
    "        ctrl.Rule(soil_moisture['Moist'] & temperature['High'], water_flow['Medium']),\n",
    "        ctrl.Rule(soil_moisture['Moist'] & temperature['Medium'], water_flow['Low']),\n",
    "        ctrl.Rule(soil_moisture['Moist'] & temperature['Low'], water_flow['Low']),\n",
    "        ctrl.Rule(soil_moisture['Wet'] & temperature['High'], water_flow['Low']),\n",
    "        ctrl.Rule(soil_moisture['Wet'] & temperature['Medium'], water_flow['Low']),\n",
    "        ctrl.Rule(soil_moisture['Wet'] & temperature['Low'], water_flow['Low']),\n",
    "    ]\n",
    "    return rules\n"
   ]
  },
  {
   "cell_type": "code",
   "execution_count": 17,
   "id": "c7f77b69",
   "metadata": {},
   "outputs": [],
   "source": [
    "\n",
    "def create_fuzzy_system(rules):\n",
    "    \"\"\"\n",
    "    Create and return the fuzzy control system and simulation object.\n",
    "    \"\"\"\n",
    "    irrigation_ctrl = ctrl.ControlSystem(rules)\n",
    "    return ctrl.ControlSystemSimulation(irrigation_ctrl)\n",
    "\n"
   ]
  },
  {
   "cell_type": "code",
   "execution_count": 18,
   "id": "e7909c4e",
   "metadata": {},
   "outputs": [
    {
     "name": "stdout",
     "output_type": "stream",
     "text": [
      "\n",
      "Soil Moisture Input: 50.0%\n",
      "Temperature Input: 45.0°C\n",
      "Recommended Water Flow: 50.00%\n"
     ]
    }
   ],
   "source": [
    "\n",
    "def main():\n",
    "    # Define fuzzy variables\n",
    "    soil_moisture, temperature, water_flow = define_fuzzy_variables()\n",
    "\n",
    "    # Define fuzzy rules\n",
    "    rules = define_fuzzy_rules(soil_moisture, temperature, water_flow)\n",
    "\n",
    "    # Create fuzzy system simulation\n",
    "    irrigation_sim = create_fuzzy_system(rules)\n",
    "\n",
    "    # Get user input\n",
    "    try:\n",
    "        soil_moisture_input = float(input(\"Enter the soil moisture level (0-100%): \"))\n",
    "        temperature_input = float(input(\"Enter the temperature (°C) (0-50): \"))\n",
    "\n",
    "        # Validate inputs\n",
    "        if not (0 <= soil_moisture_input <= 100):\n",
    "            raise ValueError(\"Soil moisture must be between 0 and 100.\")\n",
    "        if not (0 <= temperature_input <= 50):\n",
    "            raise ValueError(\"Temperature must be between 0 and 50.\")\n",
    "\n",
    "        # Set inputs\n",
    "        irrigation_sim.input['soil_moisture'] = soil_moisture_input\n",
    "        irrigation_sim.input['temperature'] = temperature_input\n",
    "\n",
    "        # Compute output\n",
    "        irrigation_sim.compute()\n",
    "\n",
    "        # Display results\n",
    "        print(f\"\\nSoil Moisture Input: {soil_moisture_input}%\")\n",
    "        print(f\"Temperature Input: {temperature_input}°C\")\n",
    "        print(f\"Recommended Water Flow: {irrigation_sim.output['water_flow']:.2f}%\")\n",
    "\n",
    "    except ValueError as e:\n",
    "        print(f\"Error: {e}\")\n",
    "\n",
    "\n",
    "if __name__ == \"__main__\":\n",
    "    main()\n",
    "    "
   ]
  }
 ],
 "metadata": {
  "kernelspec": {
   "display_name": "Python 3",
   "language": "python",
   "name": "python3"
  },
  "language_info": {
   "codemirror_mode": {
    "name": "ipython",
    "version": 3
   },
   "file_extension": ".py",
   "mimetype": "text/x-python",
   "name": "python",
   "nbconvert_exporter": "python",
   "pygments_lexer": "ipython3",
   "version": "3.11.1"
  }
 },
 "nbformat": 4,
 "nbformat_minor": 5
}
